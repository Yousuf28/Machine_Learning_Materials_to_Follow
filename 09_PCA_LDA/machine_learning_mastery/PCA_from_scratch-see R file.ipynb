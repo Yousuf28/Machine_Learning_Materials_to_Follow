{
 "cells": [
  {
   "cell_type": "markdown",
   "metadata": {},
   "source": [
    "[link](https://machinelearningmastery.com/calculate-principal-component-analysis-scratch-python/)"
   ]
  },
  {
   "cell_type": "code",
   "execution_count": 1,
   "metadata": {},
   "outputs": [],
   "source": [
    "import pandas as pd\n",
    "from sklearn.decomposition import PCA\n",
    "from sklearn import preprocessing\n",
    "import matplotlib.pyplot as plt"
   ]
  },
  {
   "cell_type": "code",
   "execution_count": 2,
   "metadata": {},
   "outputs": [],
   "source": [
    "# see MachineLearning RMD file"
   ]
  },
  {
   "cell_type": "code",
   "execution_count": 3,
   "metadata": {},
   "outputs": [],
   "source": [
    "from numpy import array\n",
    "from numpy import mean\n",
    "from numpy import std\n",
    "from numpy import cov\n",
    "from numpy.linalg import eig\n"
   ]
  },
  {
   "cell_type": "code",
   "execution_count": 4,
   "metadata": {
    "scrolled": true
   },
   "outputs": [
    {
     "name": "stdout",
     "output_type": "stream",
     "text": [
      "[[1 4 5 4]\n",
      " [3 4 4 5]\n",
      " [5 6 8 6]\n",
      " [5 6 9 7]\n",
      " [6 7 8 8]]\n"
     ]
    }
   ],
   "source": [
    "# define a matrix\n",
    "A = array([[1, 4,5,4],\n",
    "           [3, 4,4,5],\n",
    "           [5, 6,8,6],\n",
    "           [5,6,9,7],\n",
    "           [6,7,8,8]])\n",
    "print(A)\n"
   ]
  },
  {
   "cell_type": "code",
   "execution_count": 5,
   "metadata": {},
   "outputs": [
    {
     "name": "stdout",
     "output_type": "stream",
     "text": [
      "[4.  5.4 6.8 6. ]\n"
     ]
    }
   ],
   "source": [
    "# calculate the mean of each column\n",
    "M = mean(A.T, axis=1)\n",
    "print(M)\n"
   ]
  },
  {
   "cell_type": "code",
   "execution_count": 6,
   "metadata": {
    "scrolled": false
   },
   "outputs": [
    {
     "name": "stdout",
     "output_type": "stream",
     "text": [
      "[[-3.  -1.4 -1.8 -2. ]\n",
      " [-1.  -1.4 -2.8 -1. ]\n",
      " [ 1.   0.6  1.2  0. ]\n",
      " [ 1.   0.6  2.2  1. ]\n",
      " [ 2.   1.6  1.2  2. ]]\n"
     ]
    }
   ],
   "source": [
    "# center columns by subtracting column means\n",
    "C = A - M\n",
    "print(C)\n"
   ]
  },
  {
   "cell_type": "code",
   "execution_count": 7,
   "metadata": {
    "scrolled": true
   },
   "outputs": [
    {
     "data": {
      "text/plain": [
       "array([1.78885438, 1.2       , 1.93907194, 1.41421356])"
      ]
     },
     "execution_count": 7,
     "metadata": {},
     "output_type": "execute_result"
    }
   ],
   "source": [
    "st = std(A.T, axis = 1)\n",
    "st"
   ]
  },
  {
   "cell_type": "code",
   "execution_count": 8,
   "metadata": {},
   "outputs": [
    {
     "data": {
      "text/plain": [
       "array([[-1.67705098, -1.16666667, -0.92827912, -1.41421356],\n",
       "       [-0.55901699, -1.16666667, -1.44398974, -0.70710678],\n",
       "       [ 0.55901699,  0.5       ,  0.61885275,  0.        ],\n",
       "       [ 0.55901699,  0.5       ,  1.13456337,  0.70710678],\n",
       "       [ 1.11803399,  1.33333333,  0.61885275,  1.41421356]])"
      ]
     },
     "execution_count": 8,
     "metadata": {},
     "output_type": "execute_result"
    }
   ],
   "source": [
    "sc = C/st\n",
    "sc"
   ]
  },
  {
   "cell_type": "code",
   "execution_count": 9,
   "metadata": {},
   "outputs": [
    {
     "name": "stdout",
     "output_type": "stream",
     "text": [
      "[[4.   2.5  3.5  3.  ]\n",
      " [2.5  1.8  2.6  2.  ]\n",
      " [3.5  2.6  4.7  2.75]\n",
      " [3.   2.   2.75 2.5 ]]\n"
     ]
    }
   ],
   "source": [
    "# calculate covariance matrix of centered matrix\n",
    "V = cov(C.T)\n",
    "print(V)\n"
   ]
  },
  {
   "cell_type": "code",
   "execution_count": 10,
   "metadata": {},
   "outputs": [
    {
     "name": "stdout",
     "output_type": "stream",
     "text": [
      "[[-0.559373   -0.49746631 -0.66292127  0.01282573]\n",
      " [-0.38270204 -0.04584233  0.34073413 -0.85751845]\n",
      " [-0.58969124  0.78091634 -0.08479802  0.18773175]\n",
      " [-0.43920978 -0.37496056  0.66124499  0.47880519]]\n"
     ]
    }
   ],
   "source": [
    "\n",
    "# pca_ge$rotation\n",
    "\n",
    "# eigendecomposition of covariance matrix\n",
    "values, vectors = eig(V)\n",
    "print(vectors)\n",
    "\n"
   ]
  },
  {
   "cell_type": "code",
   "execution_count": 11,
   "metadata": {},
   "outputs": [
    {
     "name": "stdout",
     "output_type": "stream",
     "text": [
      "[11.75565456  0.9973451   0.17031866  0.07668167]\n"
     ]
    }
   ],
   "source": [
    "print(values)"
   ]
  },
  {
   "cell_type": "code",
   "execution_count": 12,
   "metadata": {},
   "outputs": [
    {
     "data": {
      "text/plain": [
       "12.999"
      ]
     },
     "execution_count": 12,
     "metadata": {},
     "output_type": "execute_result"
    }
   ],
   "source": [
    "tot_val = round((11.7556 + 0.997 + 0.170 + 0.0766), 3)\n",
    "tot_val"
   ]
  },
  {
   "cell_type": "code",
   "execution_count": 13,
   "metadata": {},
   "outputs": [
    {
     "data": {
      "text/plain": [
       "array([0.90435069, 0.07672476, 0.01310244, 0.00589904])"
      ]
     },
     "execution_count": 13,
     "metadata": {},
     "output_type": "execute_result"
    }
   ],
   "source": [
    "# proportion variance\n",
    "values/tot_val"
   ]
  },
  {
   "cell_type": "code",
   "execution_count": 14,
   "metadata": {},
   "outputs": [
    {
     "name": "stdout",
     "output_type": "stream",
     "text": [
      "[[ 4.15376566  0.90084992  0.34188249 -0.1334789 ]\n",
      " [ 3.18550112 -1.2499596  -0.23791705  0.18324601]\n",
      " [-1.49662372  0.41212789 -0.56023842 -0.27640724]\n",
      " [-2.52552474  0.81808367  0.01620855  0.3901297 ]\n",
      " [-3.31711832 -0.88110188  0.44006442 -0.16348957]]\n"
     ]
    }
   ],
   "source": [
    "# pca$x\n",
    "\n",
    "# project data\n",
    "P = vectors.T.dot(C.T)\n",
    "print(P.T)"
   ]
  },
  {
   "cell_type": "code",
   "execution_count": 15,
   "metadata": {},
   "outputs": [
    {
     "data": {
      "text/plain": [
       "array([[-0.559373  , -0.38270204, -0.58969124, -0.43920978],\n",
       "       [-0.49746631, -0.04584233,  0.78091634, -0.37496056],\n",
       "       [-0.66292127,  0.34073413, -0.08479802,  0.66124499],\n",
       "       [ 0.01282573, -0.85751845,  0.18773175,  0.47880519]])"
      ]
     },
     "execution_count": 15,
     "metadata": {},
     "output_type": "execute_result"
    }
   ],
   "source": [
    "vectors.T"
   ]
  },
  {
   "cell_type": "code",
   "execution_count": 16,
   "metadata": {},
   "outputs": [
    {
     "data": {
      "text/plain": [
       "array([[ 4.15376566,  3.18550112, -1.49662372, -2.52552474, -3.31711832],\n",
       "       [ 0.90084992, -1.2499596 ,  0.41212789,  0.81808367, -0.88110188],\n",
       "       [ 0.34188249, -0.23791705, -0.56023842,  0.01620855,  0.44006442],\n",
       "       [-0.1334789 ,  0.18324601, -0.27640724,  0.3901297 , -0.16348957]])"
      ]
     },
     "execution_count": 16,
     "metadata": {},
     "output_type": "execute_result"
    }
   ],
   "source": [
    "vectors.T.dot(C.T)"
   ]
  },
  {
   "cell_type": "code",
   "execution_count": 17,
   "metadata": {},
   "outputs": [],
   "source": [
    "# sklearn\n"
   ]
  },
  {
   "cell_type": "code",
   "execution_count": 18,
   "metadata": {},
   "outputs": [
    {
     "name": "stderr",
     "output_type": "stream",
     "text": [
      "/Users/YOUSUF/anaconda3/envs/analyst/lib/python3.6/site-packages/sklearn/utils/validation.py:595: DataConversionWarning: Data with input dtype int64 was converted to float64 by the scale function.\n",
      "  warnings.warn(msg, DataConversionWarning)\n"
     ]
    }
   ],
   "source": [
    "scaled = preprocessing.scale(A , with_std= False)"
   ]
  },
  {
   "cell_type": "code",
   "execution_count": 19,
   "metadata": {},
   "outputs": [
    {
     "data": {
      "text/plain": [
       "array([[-3. , -1.4, -1.8, -2. ],\n",
       "       [-1. , -1.4, -2.8, -1. ],\n",
       "       [ 1. ,  0.6,  1.2,  0. ],\n",
       "       [ 1. ,  0.6,  2.2,  1. ],\n",
       "       [ 2. ,  1.6,  1.2,  2. ]])"
      ]
     },
     "execution_count": 19,
     "metadata": {},
     "output_type": "execute_result"
    }
   ],
   "source": [
    "scaled"
   ]
  },
  {
   "cell_type": "code",
   "execution_count": 20,
   "metadata": {},
   "outputs": [],
   "source": [
    "pca = PCA()"
   ]
  },
  {
   "cell_type": "code",
   "execution_count": 21,
   "metadata": {},
   "outputs": [
    {
     "data": {
      "text/plain": [
       "PCA(copy=True, iterated_power='auto', n_components=None, random_state=None,\n",
       "  svd_solver='auto', tol=0.0, whiten=False)"
      ]
     },
     "execution_count": 21,
     "metadata": {},
     "output_type": "execute_result"
    }
   ],
   "source": [
    "pca.fit(scaled)"
   ]
  },
  {
   "cell_type": "code",
   "execution_count": 22,
   "metadata": {
    "scrolled": true
   },
   "outputs": [
    {
     "data": {
      "text/plain": [
       "array([[ 4.15376566, -0.90084992, -0.34188249, -0.1334789 ],\n",
       "       [ 3.18550112,  1.2499596 ,  0.23791705,  0.18324601],\n",
       "       [-1.49662372, -0.41212789,  0.56023842, -0.27640724],\n",
       "       [-2.52552474, -0.81808367, -0.01620855,  0.3901297 ],\n",
       "       [-3.31711832,  0.88110188, -0.44006442, -0.16348957]])"
      ]
     },
     "execution_count": 22,
     "metadata": {},
     "output_type": "execute_result"
    }
   ],
   "source": [
    "pca_data = pca.transform(scaled)\n",
    "pca_data"
   ]
  },
  {
   "cell_type": "code",
   "execution_count": 32,
   "metadata": {},
   "outputs": [
    {
     "data": {
      "text/plain": [
       "array([[-0.559373  ,  0.49746631,  0.66292127,  0.01282573],\n",
       "       [-0.38270204,  0.04584233, -0.34073413, -0.85751845],\n",
       "       [-0.58969124, -0.78091634,  0.08479802,  0.18773175],\n",
       "       [-0.43920978,  0.37496056, -0.66124499,  0.47880519]])"
      ]
     },
     "execution_count": 32,
     "metadata": {},
     "output_type": "execute_result"
    }
   ],
   "source": [
    "pca.components_.T"
   ]
  },
  {
   "cell_type": "code",
   "execution_count": 24,
   "metadata": {},
   "outputs": [
    {
     "data": {
      "text/plain": [
       "array([0.90428112, 0.07671885, 0.01310144, 0.00589859])"
      ]
     },
     "execution_count": 24,
     "metadata": {},
     "output_type": "execute_result"
    }
   ],
   "source": [
    "pca.explained_variance_ratio_"
   ]
  },
  {
   "cell_type": "code",
   "execution_count": 25,
   "metadata": {},
   "outputs": [
    {
     "data": {
      "text/plain": [
       "array([11.75565456,  0.9973451 ,  0.17031866,  0.07668167])"
      ]
     },
     "execution_count": 25,
     "metadata": {},
     "output_type": "execute_result"
    }
   ],
   "source": [
    "pca.explained_variance_"
   ]
  },
  {
   "cell_type": "code",
   "execution_count": 26,
   "metadata": {},
   "outputs": [
    {
     "data": {
      "text/plain": [
       "5"
      ]
     },
     "execution_count": 26,
     "metadata": {},
     "output_type": "execute_result"
    }
   ],
   "source": [
    "pca.n_samples_"
   ]
  },
  {
   "cell_type": "code",
   "execution_count": 27,
   "metadata": {},
   "outputs": [],
   "source": [
    "pca_a = PCA()"
   ]
  },
  {
   "cell_type": "code",
   "execution_count": 28,
   "metadata": {},
   "outputs": [
    {
     "data": {
      "text/plain": [
       "PCA(copy=True, iterated_power='auto', n_components=None, random_state=None,\n",
       "  svd_solver='auto', tol=0.0, whiten=False)"
      ]
     },
     "execution_count": 28,
     "metadata": {},
     "output_type": "execute_result"
    }
   ],
   "source": [
    "pca_a.fit(C)"
   ]
  },
  {
   "cell_type": "code",
   "execution_count": 29,
   "metadata": {},
   "outputs": [
    {
     "data": {
      "text/plain": [
       "array([0.90428112, 0.07671885, 0.01310144, 0.00589859])"
      ]
     },
     "execution_count": 29,
     "metadata": {},
     "output_type": "execute_result"
    }
   ],
   "source": [
    "pca_a.explained_variance_ratio_"
   ]
  },
  {
   "cell_type": "code",
   "execution_count": 33,
   "metadata": {},
   "outputs": [
    {
     "data": {
      "text/plain": [
       "array([[-0.559373  ,  0.49746631,  0.66292127,  0.01282573],\n",
       "       [-0.38270204,  0.04584233, -0.34073413, -0.85751845],\n",
       "       [-0.58969124, -0.78091634,  0.08479802,  0.18773175],\n",
       "       [-0.43920978,  0.37496056, -0.66124499,  0.47880519]])"
      ]
     },
     "execution_count": 33,
     "metadata": {},
     "output_type": "execute_result"
    }
   ],
   "source": [
    "pca_a.components_.T"
   ]
  },
  {
   "cell_type": "code",
   "execution_count": 31,
   "metadata": {},
   "outputs": [
    {
     "data": {
      "text/plain": [
       "array([[ 4.15376566, -0.90084992, -0.34188249, -0.1334789 ],\n",
       "       [ 3.18550112,  1.2499596 ,  0.23791705,  0.18324601],\n",
       "       [-1.49662372, -0.41212789,  0.56023842, -0.27640724],\n",
       "       [-2.52552474, -0.81808367, -0.01620855,  0.3901297 ],\n",
       "       [-3.31711832,  0.88110188, -0.44006442, -0.16348957]])"
      ]
     },
     "execution_count": 31,
     "metadata": {},
     "output_type": "execute_result"
    }
   ],
   "source": [
    "# rotation in R\n",
    "pca_a.fit_transform(C)"
   ]
  },
  {
   "cell_type": "code",
   "execution_count": null,
   "metadata": {},
   "outputs": [],
   "source": []
  }
 ],
 "metadata": {
  "kernelspec": {
   "display_name": "Python 3",
   "language": "python",
   "name": "python3"
  },
  "language_info": {
   "codemirror_mode": {
    "name": "ipython",
    "version": 3
   },
   "file_extension": ".py",
   "mimetype": "text/x-python",
   "name": "python",
   "nbconvert_exporter": "python",
   "pygments_lexer": "ipython3",
   "version": "3.6.7"
  },
  "toc": {
   "base_numbering": 1,
   "nav_menu": {},
   "number_sections": true,
   "sideBar": true,
   "skip_h1_title": false,
   "title_cell": "Table of Contents",
   "title_sidebar": "Contents",
   "toc_cell": false,
   "toc_position": {},
   "toc_section_display": true,
   "toc_window_display": false
  }
 },
 "nbformat": 4,
 "nbformat_minor": 2
}
